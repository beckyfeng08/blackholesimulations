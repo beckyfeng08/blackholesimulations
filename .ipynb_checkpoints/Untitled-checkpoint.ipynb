{
 "cells": [
  {
   "cell_type": "markdown",
   "id": "05174f5d",
   "metadata": {},
   "source": [
    "# Simple two-body simulator"
   ]
  },
  {
   "cell_type": "code",
   "execution_count": 1,
   "id": "5d3508f5",
   "metadata": {},
   "outputs": [],
   "source": [
    "import numpy as np\n",
    "import matplotlib.pyplot as plt"
   ]
  },
  {
   "cell_type": "code",
   "execution_count": 2,
   "id": "503a21c0",
   "metadata": {},
   "outputs": [],
   "source": [
    "#necessary constants\n",
    "G = 6.67*10**(-11) #in SI"
   ]
  },
  {
   "cell_type": "code",
   "execution_count": 34,
   "id": "119b0478",
   "metadata": {},
   "outputs": [],
   "source": [
    "#varying parameters\n",
    "m1 = 1\n",
    "m2 = 1\n",
    "r = 10\n",
    "delta_t = 0.1\n",
    "\n",
    "x1 = np.array([1,1])\n",
    "x2 = np.array([-1,-1])\n",
    "v1 = 1\n",
    "v2 = 1"
   ]
  },
  {
   "cell_type": "code",
   "execution_count": 35,
   "id": "d100106a",
   "metadata": {},
   "outputs": [],
   "source": [
    "F = m1*m2/r"
   ]
  },
  {
   "cell_type": "code",
   "execution_count": 36,
   "id": "047240c7",
   "metadata": {},
   "outputs": [
    {
     "data": {
      "text/plain": [
       "array([ 0, -1])"
      ]
     },
     "execution_count": 36,
     "metadata": {},
     "output_type": "execute_result"
    }
   ],
   "source": [
    "v1 = np.flip(v1)\n",
    "v1[1] = -v1[1]\n",
    "v1"
   ]
  },
  {
   "cell_type": "code",
   "execution_count": null,
   "id": "d7e3c1ff",
   "metadata": {},
   "outputs": [],
   "source": [
    "#calculating a list of positions\n",
    "x1_list = [x1]\n",
    "x2_list = [x2]\n",
    "for i in range(1, 100):\n",
    "    #get direction vector\n",
    "    x1 = x1_list[i-1]\n",
    "    x2 = x2_list[i-2]\n",
    "    directionv1 = np.flip(((x1 - x2)/np.linalg.norm(x1 - x2)))\n",
    "    directionv1[0] = -directionv1[0]\n",
    "    \n",
    "    directionv2 = -directionv1\n",
    "    \n",
    "    x1_new = x1 + v1*directionv1*delta_t\n",
    "    x2_new = x2 + v2*directionv2*delta_t\n",
    "    \n",
    "    x1_list.append(x1_new)\n",
    "    x2_list.append(x2_new)"
   ]
  }
 ],
 "metadata": {
  "kernelspec": {
   "display_name": "Python 3",
   "language": "python",
   "name": "python3"
  },
  "language_info": {
   "codemirror_mode": {
    "name": "ipython",
    "version": 3
   },
   "file_extension": ".py",
   "mimetype": "text/x-python",
   "name": "python",
   "nbconvert_exporter": "python",
   "pygments_lexer": "ipython3",
   "version": "3.8.8"
  }
 },
 "nbformat": 4,
 "nbformat_minor": 5
}
